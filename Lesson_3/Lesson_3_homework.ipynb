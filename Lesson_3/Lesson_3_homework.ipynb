{
 "cells": [
  {
   "cell_type": "code",
   "execution_count": 33,
   "metadata": {},
   "outputs": [],
   "source": [
    "from typing import List, Optional\n",
    "from tqdm import tqdm\n",
    "\n",
    "import numpy as np\n",
    "import pandas as pd\n",
    "import matplotlib as mpl\n",
    "import matplotlib.pyplot as plt\n",
    "\n",
    "import seaborn as sns\n",
    "import scipy.stats as st\n",
    "from scipy.stats import probplot, ks_2samp\n",
    "\n",
    "from sklearn.metrics import roc_auc_score\n",
    "from sklearn.ensemble import RandomForestRegressor\n",
    "from sklearn.model_selection import KFold, cross_val_score\n",
    "from sklearn.base import BaseEstimator, TransformerMixin\n",
    "from sklearn.utils.validation import check_is_fitted\n",
    "import missingno as msno\n",
    "from sklearn.model_selection import train_test_split, cross_val_score, KFold, GroupKFold, TimeSeriesSplit\n",
    "import xgboost as xgb\n",
    "import catboost as catb\n",
    "from typing import List, Tuple\n",
    "import scipy.stats as st\n",
    "%matplotlib inline\n"
   ]
  },
  {
   "cell_type": "code",
   "execution_count": 34,
   "metadata": {},
   "outputs": [
    {
     "name": "stdout",
     "output_type": "stream",
     "text": [
      "train.shape = 180000 rows, 394 cols\n",
      "test.shape = 100001 rows, 394 cols\n"
     ]
    }
   ],
   "source": [
    "TRAIN_DATA_PATH = 'data/assignment_2_train.csv'\n",
    "TEST_DATA_PATH = 'data/assignment_2_test.csv'\n",
    "\n",
    "\n",
    "train = pd.read_csv(TRAIN_DATA_PATH)\n",
    "test = pd.read_csv(TEST_DATA_PATH)\n",
    "\n",
    "print(\"train.shape = {} rows, {} cols\".format(*train.shape))\n",
    "print(\"test.shape = {} rows, {} cols\".format(*test.shape))"
   ]
  },
  {
   "cell_type": "code",
   "execution_count": 35,
   "metadata": {},
   "outputs": [
    {
     "data": {
      "text/html": [
       "<div>\n",
       "<style scoped>\n",
       "    .dataframe tbody tr th:only-of-type {\n",
       "        vertical-align: middle;\n",
       "    }\n",
       "\n",
       "    .dataframe tbody tr th {\n",
       "        vertical-align: top;\n",
       "    }\n",
       "\n",
       "    .dataframe thead th {\n",
       "        text-align: right;\n",
       "    }\n",
       "</style>\n",
       "<table border=\"1\" class=\"dataframe\">\n",
       "  <thead>\n",
       "    <tr style=\"text-align: right;\">\n",
       "      <th></th>\n",
       "      <th>TransactionID</th>\n",
       "      <th>isFraud</th>\n",
       "      <th>TransactionDT</th>\n",
       "      <th>TransactionAmt</th>\n",
       "      <th>ProductCD</th>\n",
       "      <th>card1</th>\n",
       "      <th>card2</th>\n",
       "      <th>card3</th>\n",
       "      <th>card4</th>\n",
       "      <th>card5</th>\n",
       "      <th>...</th>\n",
       "      <th>V330</th>\n",
       "      <th>V331</th>\n",
       "      <th>V332</th>\n",
       "      <th>V333</th>\n",
       "      <th>V334</th>\n",
       "      <th>V335</th>\n",
       "      <th>V336</th>\n",
       "      <th>V337</th>\n",
       "      <th>V338</th>\n",
       "      <th>V339</th>\n",
       "    </tr>\n",
       "  </thead>\n",
       "  <tbody>\n",
       "    <tr>\n",
       "      <th>0</th>\n",
       "      <td>2987000</td>\n",
       "      <td>0</td>\n",
       "      <td>86400</td>\n",
       "      <td>68.5</td>\n",
       "      <td>W</td>\n",
       "      <td>13926</td>\n",
       "      <td>NaN</td>\n",
       "      <td>150.0</td>\n",
       "      <td>discover</td>\n",
       "      <td>142.0</td>\n",
       "      <td>...</td>\n",
       "      <td>NaN</td>\n",
       "      <td>NaN</td>\n",
       "      <td>NaN</td>\n",
       "      <td>NaN</td>\n",
       "      <td>NaN</td>\n",
       "      <td>NaN</td>\n",
       "      <td>NaN</td>\n",
       "      <td>NaN</td>\n",
       "      <td>NaN</td>\n",
       "      <td>NaN</td>\n",
       "    </tr>\n",
       "    <tr>\n",
       "      <th>1</th>\n",
       "      <td>2987001</td>\n",
       "      <td>0</td>\n",
       "      <td>86401</td>\n",
       "      <td>29.0</td>\n",
       "      <td>W</td>\n",
       "      <td>2755</td>\n",
       "      <td>404.0</td>\n",
       "      <td>150.0</td>\n",
       "      <td>mastercard</td>\n",
       "      <td>102.0</td>\n",
       "      <td>...</td>\n",
       "      <td>NaN</td>\n",
       "      <td>NaN</td>\n",
       "      <td>NaN</td>\n",
       "      <td>NaN</td>\n",
       "      <td>NaN</td>\n",
       "      <td>NaN</td>\n",
       "      <td>NaN</td>\n",
       "      <td>NaN</td>\n",
       "      <td>NaN</td>\n",
       "      <td>NaN</td>\n",
       "    </tr>\n",
       "    <tr>\n",
       "      <th>2</th>\n",
       "      <td>2987002</td>\n",
       "      <td>0</td>\n",
       "      <td>86469</td>\n",
       "      <td>59.0</td>\n",
       "      <td>W</td>\n",
       "      <td>4663</td>\n",
       "      <td>490.0</td>\n",
       "      <td>150.0</td>\n",
       "      <td>visa</td>\n",
       "      <td>166.0</td>\n",
       "      <td>...</td>\n",
       "      <td>NaN</td>\n",
       "      <td>NaN</td>\n",
       "      <td>NaN</td>\n",
       "      <td>NaN</td>\n",
       "      <td>NaN</td>\n",
       "      <td>NaN</td>\n",
       "      <td>NaN</td>\n",
       "      <td>NaN</td>\n",
       "      <td>NaN</td>\n",
       "      <td>NaN</td>\n",
       "    </tr>\n",
       "    <tr>\n",
       "      <th>3</th>\n",
       "      <td>2987003</td>\n",
       "      <td>0</td>\n",
       "      <td>86499</td>\n",
       "      <td>50.0</td>\n",
       "      <td>W</td>\n",
       "      <td>18132</td>\n",
       "      <td>567.0</td>\n",
       "      <td>150.0</td>\n",
       "      <td>mastercard</td>\n",
       "      <td>117.0</td>\n",
       "      <td>...</td>\n",
       "      <td>NaN</td>\n",
       "      <td>NaN</td>\n",
       "      <td>NaN</td>\n",
       "      <td>NaN</td>\n",
       "      <td>NaN</td>\n",
       "      <td>NaN</td>\n",
       "      <td>NaN</td>\n",
       "      <td>NaN</td>\n",
       "      <td>NaN</td>\n",
       "      <td>NaN</td>\n",
       "    </tr>\n",
       "    <tr>\n",
       "      <th>4</th>\n",
       "      <td>2987004</td>\n",
       "      <td>0</td>\n",
       "      <td>86506</td>\n",
       "      <td>50.0</td>\n",
       "      <td>H</td>\n",
       "      <td>4497</td>\n",
       "      <td>514.0</td>\n",
       "      <td>150.0</td>\n",
       "      <td>mastercard</td>\n",
       "      <td>102.0</td>\n",
       "      <td>...</td>\n",
       "      <td>0.0</td>\n",
       "      <td>0.0</td>\n",
       "      <td>0.0</td>\n",
       "      <td>0.0</td>\n",
       "      <td>0.0</td>\n",
       "      <td>0.0</td>\n",
       "      <td>0.0</td>\n",
       "      <td>0.0</td>\n",
       "      <td>0.0</td>\n",
       "      <td>0.0</td>\n",
       "    </tr>\n",
       "  </tbody>\n",
       "</table>\n",
       "<p>5 rows × 394 columns</p>\n",
       "</div>"
      ],
      "text/plain": [
       "   TransactionID  isFraud  TransactionDT  TransactionAmt ProductCD  card1  \\\n",
       "0        2987000        0          86400            68.5         W  13926   \n",
       "1        2987001        0          86401            29.0         W   2755   \n",
       "2        2987002        0          86469            59.0         W   4663   \n",
       "3        2987003        0          86499            50.0         W  18132   \n",
       "4        2987004        0          86506            50.0         H   4497   \n",
       "\n",
       "   card2  card3       card4  card5  ... V330  V331  V332  V333  V334 V335  \\\n",
       "0    NaN  150.0    discover  142.0  ...  NaN   NaN   NaN   NaN   NaN  NaN   \n",
       "1  404.0  150.0  mastercard  102.0  ...  NaN   NaN   NaN   NaN   NaN  NaN   \n",
       "2  490.0  150.0        visa  166.0  ...  NaN   NaN   NaN   NaN   NaN  NaN   \n",
       "3  567.0  150.0  mastercard  117.0  ...  NaN   NaN   NaN   NaN   NaN  NaN   \n",
       "4  514.0  150.0  mastercard  102.0  ...  0.0   0.0   0.0   0.0   0.0  0.0   \n",
       "\n",
       "  V336  V337  V338  V339  \n",
       "0  NaN   NaN   NaN   NaN  \n",
       "1  NaN   NaN   NaN   NaN  \n",
       "2  NaN   NaN   NaN   NaN  \n",
       "3  NaN   NaN   NaN   NaN  \n",
       "4  0.0   0.0   0.0   0.0  \n",
       "\n",
       "[5 rows x 394 columns]"
      ]
     },
     "execution_count": 35,
     "metadata": {},
     "output_type": "execute_result"
    }
   ],
   "source": [
    "train.head()"
   ]
  },
  {
   "cell_type": "code",
   "execution_count": 36,
   "metadata": {
    "scrolled": false
   },
   "outputs": [
    {
     "data": {
      "text/html": [
       "<div>\n",
       "<style scoped>\n",
       "    .dataframe tbody tr th:only-of-type {\n",
       "        vertical-align: middle;\n",
       "    }\n",
       "\n",
       "    .dataframe tbody tr th {\n",
       "        vertical-align: top;\n",
       "    }\n",
       "\n",
       "    .dataframe thead th {\n",
       "        text-align: right;\n",
       "    }\n",
       "</style>\n",
       "<table border=\"1\" class=\"dataframe\">\n",
       "  <thead>\n",
       "    <tr style=\"text-align: right;\">\n",
       "      <th></th>\n",
       "      <th>TransactionID</th>\n",
       "      <th>isFraud</th>\n",
       "      <th>TransactionDT</th>\n",
       "      <th>TransactionAmt</th>\n",
       "      <th>card1</th>\n",
       "      <th>card2</th>\n",
       "      <th>card3</th>\n",
       "      <th>card5</th>\n",
       "      <th>addr1</th>\n",
       "      <th>addr2</th>\n",
       "      <th>...</th>\n",
       "      <th>V330</th>\n",
       "      <th>V331</th>\n",
       "      <th>V332</th>\n",
       "      <th>V333</th>\n",
       "      <th>V334</th>\n",
       "      <th>V335</th>\n",
       "      <th>V336</th>\n",
       "      <th>V337</th>\n",
       "      <th>V338</th>\n",
       "      <th>V339</th>\n",
       "    </tr>\n",
       "  </thead>\n",
       "  <tbody>\n",
       "    <tr>\n",
       "      <th>count</th>\n",
       "      <td>1.800000e+05</td>\n",
       "      <td>180000.000000</td>\n",
       "      <td>1.800000e+05</td>\n",
       "      <td>180000.000000</td>\n",
       "      <td>180000.000000</td>\n",
       "      <td>177389.000000</td>\n",
       "      <td>179997.000000</td>\n",
       "      <td>179047.000000</td>\n",
       "      <td>160567.000000</td>\n",
       "      <td>160567.000000</td>\n",
       "      <td>...</td>\n",
       "      <td>47996.000000</td>\n",
       "      <td>47996.000000</td>\n",
       "      <td>47996.000000</td>\n",
       "      <td>47996.000000</td>\n",
       "      <td>47996.000000</td>\n",
       "      <td>47996.000000</td>\n",
       "      <td>47996.000000</td>\n",
       "      <td>47996.000000</td>\n",
       "      <td>47996.000000</td>\n",
       "      <td>47996.000000</td>\n",
       "    </tr>\n",
       "    <tr>\n",
       "      <th>mean</th>\n",
       "      <td>3.077000e+06</td>\n",
       "      <td>0.028561</td>\n",
       "      <td>1.909818e+06</td>\n",
       "      <td>129.514237</td>\n",
       "      <td>9860.225806</td>\n",
       "      <td>368.326897</td>\n",
       "      <td>153.410374</td>\n",
       "      <td>200.363089</td>\n",
       "      <td>291.160444</td>\n",
       "      <td>86.559903</td>\n",
       "      <td>...</td>\n",
       "      <td>0.137074</td>\n",
       "      <td>74.962242</td>\n",
       "      <td>99.220468</td>\n",
       "      <td>85.778161</td>\n",
       "      <td>8.326725</td>\n",
       "      <td>18.404676</td>\n",
       "      <td>12.437524</td>\n",
       "      <td>26.798593</td>\n",
       "      <td>32.005349</td>\n",
       "      <td>28.492421</td>\n",
       "    </tr>\n",
       "    <tr>\n",
       "      <th>std</th>\n",
       "      <td>5.196167e+04</td>\n",
       "      <td>0.166570</td>\n",
       "      <td>1.039029e+06</td>\n",
       "      <td>206.515032</td>\n",
       "      <td>4910.778205</td>\n",
       "      <td>158.952840</td>\n",
       "      <td>11.529483</td>\n",
       "      <td>40.585532</td>\n",
       "      <td>102.250385</td>\n",
       "      <td>3.958070</td>\n",
       "      <td>...</td>\n",
       "      <td>0.642444</td>\n",
       "      <td>545.161980</td>\n",
       "      <td>668.223140</td>\n",
       "      <td>577.072150</td>\n",
       "      <td>84.616132</td>\n",
       "      <td>120.896921</td>\n",
       "      <td>99.305885</td>\n",
       "      <td>252.695682</td>\n",
       "      <td>284.870583</td>\n",
       "      <td>258.372941</td>\n",
       "    </tr>\n",
       "    <tr>\n",
       "      <th>min</th>\n",
       "      <td>2.987000e+06</td>\n",
       "      <td>0.000000</td>\n",
       "      <td>8.640000e+04</td>\n",
       "      <td>0.292000</td>\n",
       "      <td>1001.000000</td>\n",
       "      <td>100.000000</td>\n",
       "      <td>100.000000</td>\n",
       "      <td>100.000000</td>\n",
       "      <td>100.000000</td>\n",
       "      <td>10.000000</td>\n",
       "      <td>...</td>\n",
       "      <td>0.000000</td>\n",
       "      <td>0.000000</td>\n",
       "      <td>0.000000</td>\n",
       "      <td>0.000000</td>\n",
       "      <td>0.000000</td>\n",
       "      <td>0.000000</td>\n",
       "      <td>0.000000</td>\n",
       "      <td>0.000000</td>\n",
       "      <td>0.000000</td>\n",
       "      <td>0.000000</td>\n",
       "    </tr>\n",
       "    <tr>\n",
       "      <th>25%</th>\n",
       "      <td>3.032000e+06</td>\n",
       "      <td>0.000000</td>\n",
       "      <td>1.091681e+06</td>\n",
       "      <td>44.000000</td>\n",
       "      <td>6019.000000</td>\n",
       "      <td>215.000000</td>\n",
       "      <td>150.000000</td>\n",
       "      <td>166.000000</td>\n",
       "      <td>204.000000</td>\n",
       "      <td>87.000000</td>\n",
       "      <td>...</td>\n",
       "      <td>0.000000</td>\n",
       "      <td>0.000000</td>\n",
       "      <td>0.000000</td>\n",
       "      <td>0.000000</td>\n",
       "      <td>0.000000</td>\n",
       "      <td>0.000000</td>\n",
       "      <td>0.000000</td>\n",
       "      <td>0.000000</td>\n",
       "      <td>0.000000</td>\n",
       "      <td>0.000000</td>\n",
       "    </tr>\n",
       "    <tr>\n",
       "      <th>50%</th>\n",
       "      <td>3.077000e+06</td>\n",
       "      <td>0.000000</td>\n",
       "      <td>1.884075e+06</td>\n",
       "      <td>75.000000</td>\n",
       "      <td>9633.000000</td>\n",
       "      <td>375.000000</td>\n",
       "      <td>150.000000</td>\n",
       "      <td>226.000000</td>\n",
       "      <td>299.000000</td>\n",
       "      <td>87.000000</td>\n",
       "      <td>...</td>\n",
       "      <td>0.000000</td>\n",
       "      <td>0.000000</td>\n",
       "      <td>0.000000</td>\n",
       "      <td>0.000000</td>\n",
       "      <td>0.000000</td>\n",
       "      <td>0.000000</td>\n",
       "      <td>0.000000</td>\n",
       "      <td>0.000000</td>\n",
       "      <td>0.000000</td>\n",
       "      <td>0.000000</td>\n",
       "    </tr>\n",
       "    <tr>\n",
       "      <th>75%</th>\n",
       "      <td>3.121999e+06</td>\n",
       "      <td>0.000000</td>\n",
       "      <td>2.693196e+06</td>\n",
       "      <td>125.000000</td>\n",
       "      <td>14182.000000</td>\n",
       "      <td>514.000000</td>\n",
       "      <td>150.000000</td>\n",
       "      <td>226.000000</td>\n",
       "      <td>330.000000</td>\n",
       "      <td>87.000000</td>\n",
       "      <td>...</td>\n",
       "      <td>0.000000</td>\n",
       "      <td>0.000000</td>\n",
       "      <td>0.000000</td>\n",
       "      <td>0.000000</td>\n",
       "      <td>0.000000</td>\n",
       "      <td>0.000000</td>\n",
       "      <td>0.000000</td>\n",
       "      <td>0.000000</td>\n",
       "      <td>0.000000</td>\n",
       "      <td>0.000000</td>\n",
       "    </tr>\n",
       "    <tr>\n",
       "      <th>max</th>\n",
       "      <td>3.166999e+06</td>\n",
       "      <td>1.000000</td>\n",
       "      <td>3.958317e+06</td>\n",
       "      <td>5278.950000</td>\n",
       "      <td>18396.000000</td>\n",
       "      <td>600.000000</td>\n",
       "      <td>231.000000</td>\n",
       "      <td>237.000000</td>\n",
       "      <td>540.000000</td>\n",
       "      <td>102.000000</td>\n",
       "      <td>...</td>\n",
       "      <td>15.000000</td>\n",
       "      <td>20750.000000</td>\n",
       "      <td>32250.000000</td>\n",
       "      <td>21250.000000</td>\n",
       "      <td>3100.000000</td>\n",
       "      <td>3350.000000</td>\n",
       "      <td>3250.000000</td>\n",
       "      <td>8250.000000</td>\n",
       "      <td>8250.000000</td>\n",
       "      <td>8250.000000</td>\n",
       "    </tr>\n",
       "  </tbody>\n",
       "</table>\n",
       "<p>8 rows × 380 columns</p>\n",
       "</div>"
      ],
      "text/plain": [
       "       TransactionID        isFraud  TransactionDT  TransactionAmt  \\\n",
       "count   1.800000e+05  180000.000000   1.800000e+05   180000.000000   \n",
       "mean    3.077000e+06       0.028561   1.909818e+06      129.514237   \n",
       "std     5.196167e+04       0.166570   1.039029e+06      206.515032   \n",
       "min     2.987000e+06       0.000000   8.640000e+04        0.292000   \n",
       "25%     3.032000e+06       0.000000   1.091681e+06       44.000000   \n",
       "50%     3.077000e+06       0.000000   1.884075e+06       75.000000   \n",
       "75%     3.121999e+06       0.000000   2.693196e+06      125.000000   \n",
       "max     3.166999e+06       1.000000   3.958317e+06     5278.950000   \n",
       "\n",
       "               card1          card2          card3          card5  \\\n",
       "count  180000.000000  177389.000000  179997.000000  179047.000000   \n",
       "mean     9860.225806     368.326897     153.410374     200.363089   \n",
       "std      4910.778205     158.952840      11.529483      40.585532   \n",
       "min      1001.000000     100.000000     100.000000     100.000000   \n",
       "25%      6019.000000     215.000000     150.000000     166.000000   \n",
       "50%      9633.000000     375.000000     150.000000     226.000000   \n",
       "75%     14182.000000     514.000000     150.000000     226.000000   \n",
       "max     18396.000000     600.000000     231.000000     237.000000   \n",
       "\n",
       "               addr1          addr2  ...          V330          V331  \\\n",
       "count  160567.000000  160567.000000  ...  47996.000000  47996.000000   \n",
       "mean      291.160444      86.559903  ...      0.137074     74.962242   \n",
       "std       102.250385       3.958070  ...      0.642444    545.161980   \n",
       "min       100.000000      10.000000  ...      0.000000      0.000000   \n",
       "25%       204.000000      87.000000  ...      0.000000      0.000000   \n",
       "50%       299.000000      87.000000  ...      0.000000      0.000000   \n",
       "75%       330.000000      87.000000  ...      0.000000      0.000000   \n",
       "max       540.000000     102.000000  ...     15.000000  20750.000000   \n",
       "\n",
       "               V332          V333          V334          V335          V336  \\\n",
       "count  47996.000000  47996.000000  47996.000000  47996.000000  47996.000000   \n",
       "mean      99.220468     85.778161      8.326725     18.404676     12.437524   \n",
       "std      668.223140    577.072150     84.616132    120.896921     99.305885   \n",
       "min        0.000000      0.000000      0.000000      0.000000      0.000000   \n",
       "25%        0.000000      0.000000      0.000000      0.000000      0.000000   \n",
       "50%        0.000000      0.000000      0.000000      0.000000      0.000000   \n",
       "75%        0.000000      0.000000      0.000000      0.000000      0.000000   \n",
       "max    32250.000000  21250.000000   3100.000000   3350.000000   3250.000000   \n",
       "\n",
       "               V337          V338          V339  \n",
       "count  47996.000000  47996.000000  47996.000000  \n",
       "mean      26.798593     32.005349     28.492421  \n",
       "std      252.695682    284.870583    258.372941  \n",
       "min        0.000000      0.000000      0.000000  \n",
       "25%        0.000000      0.000000      0.000000  \n",
       "50%        0.000000      0.000000      0.000000  \n",
       "75%        0.000000      0.000000      0.000000  \n",
       "max     8250.000000   8250.000000   8250.000000  \n",
       "\n",
       "[8 rows x 380 columns]"
      ]
     },
     "execution_count": 36,
     "metadata": {},
     "output_type": "execute_result"
    }
   ],
   "source": [
    "train.describe()"
   ]
  },
  {
   "cell_type": "code",
   "execution_count": 37,
   "metadata": {
    "scrolled": false
   },
   "outputs": [],
   "source": [
    "# test.head()"
   ]
  },
  {
   "cell_type": "markdown",
   "metadata": {},
   "source": [
    "### Даны выборки для обучения и для тестирования. Задание заключается в том, чтобы попробовать разные способы валидации, проанализировать плюсы / минусы каждой и сделать выводы о том, какой способ валидации наиболее устойчивый в данной задаче. Метрика качества для оценки прогнозов - ROC-AUC, название целевой переменной - IsFraud. Рекомендуется использовать модели градиетного бустинга, реализация любая, гипепараметры любые. Внимание! выборка    _assignment_2_test.csv_ - наш аналог лидерборда. Будем моделировать ситуацию отправки решения на лидерборд и сравнить значение метрики на лидерборде и на локальной валидации. Для других целей использовать выборку запрещено!.\n",
    "\n",
    "Терминалогия, используемая в задании:\n",
    "* обучающая выборка - выборка, которая передается в метод\n",
    "fit / train ;\n",
    "* валидационная выборка - выборка, которая получается при Hold-Out на 2 выборки (\n",
    "train , valid );\n",
    "* тестовая выборка - выборка, которая получается при Hold-Out на 3 выборки (\n",
    "train , valid , test );\n",
    "* ЛБ - лидерборд, выборка\n",
    "assignment_2_test.csv ."
   ]
  },
  {
   "cell_type": "markdown",
   "metadata": {},
   "source": [
    "### Задание 1: сделать Hold-Out валидацию с разбиением, размер которого будет адеквтаным, по вашему мнению; разбиение проводить по id-транзакции (TransactionID), обучать модель градиетного бустинга любой реализации с подбором числа деревьев по early_stopping критерию до достижения сходимости. Оценить качество модели на валидационной выборке, оценить расхождение по сравнению с качеством на обучающей выборке и валидационной выборке. Оценить качество на ЛБ, сравнить с качеством на обучении и валидации. Сделать выводы."
   ]
  },
  {
   "cell_type": "markdown",
   "metadata": {},
   "source": [
    "### Задание 2: сделать Hold-Out валидацию с разбиением на 3 выборки, разбиение проводить по id-транзакции (TransactionID), размер каждой выборки подобрать самостоятельно. Повторить процедуру из п.1. для каждой выборки"
   ]
  },
  {
   "cell_type": "markdown",
   "metadata": {},
   "source": [
    "### Задание 3: построить доверительный интервал на данных из п.2 на основе бутстреп выборок, оценить качество модели на ЛБ относительно полученного доверительного интервала. Сделать выводы."
   ]
  },
  {
   "cell_type": "markdown",
   "metadata": {},
   "source": [
    "### Задание 4: выполнить Adversarial Validation, подобрать объекты из обучающей выборки, которые сильно похожи на объекты из assignment_2_test.csv , и использовать их в качестве валидационного набора. Оценить качество модели на ЛБ, сделать выводы о полученных результатах."
   ]
  },
  {
   "cell_type": "markdown",
   "metadata": {},
   "source": [
    "### Задание 5: сделать KFold / StratifiedKFold валидацию (на ваше усмотрение), оценить получаемые качество и разброс по метрике качества. Сделать выводы об устойчивости кросс-валидации, сходимости оценки на кросс-валидации и отложенном наборе данных; Оценить качество на ЛБ, сделать выводы."
   ]
  },
  {
   "cell_type": "markdown",
   "metadata": {},
   "source": [
    "### Задание 6 (опциональное): сделать Hold-Out валидацию по времени (TransactionDT), повторить процедуры из п.1 / п.2 (на ваш выбор). Построить доверительный интервал, сравнить качество на ЛБ выборке с полученным доверительным интервалом. Сделать выводы."
   ]
  },
  {
   "cell_type": "markdown",
   "metadata": {},
   "source": [
    "### Задание 7 (совсем опциональное): в данном наборе данных у нас есть ID-транзакции (TransactionID) и время транзакции (TransactionDT), но отсутствует ID-клиента, который совершал транзакции. Кажется, что в этой задаче валидация по клиенту работала бы хорошо. Предложить критерий, по которому можно выделить клиентов и сделать п.5, используя созданное определение клиента, используя валидацию по клиенту (GroupKFold)."
   ]
  },
  {
   "cell_type": "markdown",
   "metadata": {},
   "source": [
    "## Hold-Out Validation (с разбиением на 2 выборки)"
   ]
  },
  {
   "cell_type": "code",
   "execution_count": 38,
   "metadata": {},
   "outputs": [
    {
     "name": "stdout",
     "output_type": "stream",
     "text": [
      "Categorical Features Count: 14\n",
      "Numerical Features Count: 377\n",
      "Discrete Features of Numerical Count: 180\n",
      "\n",
      "Total Features: 393\n"
     ]
    }
   ],
   "source": [
    "### Settings\n",
    "\n",
    "seed = 42\n",
    "np.random.seed(seed)\n",
    "discret_limit = 25\n",
    "\n",
    "ID = 'TransactionID'\n",
    "DATE = 'TransactionDT'\n",
    "TARGET = 'isFraud' # Target\n",
    "\n",
    "CAT_FEATS = train.select_dtypes(include='object').columns  # Categorical\n",
    "ALL_NUMERICAL_FEATS = train.select_dtypes(include=[np.number]).columns # Numerical + Target\n",
    "NUMERICAL_FEATS = ALL_NUMERICAL_FEATS.drop([TARGET, ID, DATE]) # Numerical only\n",
    "\n",
    "# Discrete feature among numerical\n",
    "DISCRETE_FEATS = [feature for feature in NUMERICAL_FEATS if len(train[feature].unique()) < discret_limit]\n",
    "\n",
    "print(f\"Categorical Features Count: {len(CAT_FEATS)}\")\n",
    "print(f\"Numerical Features Count: {len(NUMERICAL_FEATS)}\")\n",
    "print(f\"Discrete Features of Numerical Count: {len(DISCRETE_FEATS)}\")\n",
    "print(f\"\\nTotal Features: {len(train.columns)-1}\")"
   ]
  },
  {
   "cell_type": "code",
   "execution_count": 39,
   "metadata": {},
   "outputs": [
    {
     "name": "stdout",
     "output_type": "stream",
     "text": [
      "x_train.shape = 126000 rows, 377 cols\n",
      "x_test.shape = 54000 rows, 377 cols\n",
      "x_LB.shape = 100001 rows, 377 cols\n"
     ]
    }
   ],
   "source": [
    "# Hold-out Validation\n",
    "X = train[NUMERICAL_FEATS]\n",
    "y = train[TARGET]\n",
    "\n",
    "# LB Validation\n",
    "X_val = test[NUMERICAL_FEATS]\n",
    "y_val = test[TARGET]\n",
    "\n",
    "\n",
    "# Split train dataset\n",
    "X_train, X_test, y_train, y_test = train_test_split(X, y, test_size=0.3, random_state=seed)\n",
    "\n",
    "print(\"x_train.shape = {} rows, {} cols\".format(*X_train.shape))\n",
    "print(\"x_test.shape = {} rows, {} cols\".format(*X_test.shape))\n",
    "print(\"x_LB.shape = {} rows, {} cols\".format(*X_val.shape))"
   ]
  },
  {
   "cell_type": "code",
   "execution_count": 40,
   "metadata": {},
   "outputs": [
    {
     "name": "stdout",
     "output_type": "stream",
     "text": [
      "[0]\tvalidation_0-auc:0.75457\n",
      "Will train until validation_0-auc hasn't improved in 5 rounds.\n",
      "[1]\tvalidation_0-auc:0.81467\n",
      "[2]\tvalidation_0-auc:0.82195\n",
      "[3]\tvalidation_0-auc:0.82434\n",
      "[4]\tvalidation_0-auc:0.83614\n",
      "[5]\tvalidation_0-auc:0.83855\n",
      "[6]\tvalidation_0-auc:0.86326\n",
      "[7]\tvalidation_0-auc:0.86600\n",
      "[8]\tvalidation_0-auc:0.86801\n",
      "[9]\tvalidation_0-auc:0.87629\n",
      "[10]\tvalidation_0-auc:0.88284\n",
      "[11]\tvalidation_0-auc:0.88596\n",
      "[12]\tvalidation_0-auc:0.88821\n",
      "[13]\tvalidation_0-auc:0.88963\n",
      "[14]\tvalidation_0-auc:0.89382\n",
      "[15]\tvalidation_0-auc:0.89612\n",
      "[16]\tvalidation_0-auc:0.89782\n",
      "[17]\tvalidation_0-auc:0.90042\n",
      "[18]\tvalidation_0-auc:0.90158\n",
      "[19]\tvalidation_0-auc:0.90398\n",
      "[20]\tvalidation_0-auc:0.90450\n",
      "[21]\tvalidation_0-auc:0.90513\n",
      "[22]\tvalidation_0-auc:0.90565\n",
      "[23]\tvalidation_0-auc:0.90645\n",
      "[24]\tvalidation_0-auc:0.90745\n",
      "[25]\tvalidation_0-auc:0.90803\n",
      "[26]\tvalidation_0-auc:0.90853\n",
      "[27]\tvalidation_0-auc:0.90843\n",
      "[28]\tvalidation_0-auc:0.91032\n",
      "[29]\tvalidation_0-auc:0.91091\n",
      "[30]\tvalidation_0-auc:0.91209\n",
      "[31]\tvalidation_0-auc:0.91266\n",
      "[32]\tvalidation_0-auc:0.91327\n",
      "[33]\tvalidation_0-auc:0.91378\n",
      "[34]\tvalidation_0-auc:0.91398\n",
      "[35]\tvalidation_0-auc:0.91398\n",
      "[36]\tvalidation_0-auc:0.91431\n",
      "[37]\tvalidation_0-auc:0.91462\n",
      "[38]\tvalidation_0-auc:0.91493\n",
      "[39]\tvalidation_0-auc:0.91569\n",
      "[40]\tvalidation_0-auc:0.91572\n",
      "[41]\tvalidation_0-auc:0.91564\n",
      "[42]\tvalidation_0-auc:0.91631\n",
      "[43]\tvalidation_0-auc:0.91636\n",
      "[44]\tvalidation_0-auc:0.91659\n",
      "[45]\tvalidation_0-auc:0.91677\n",
      "[46]\tvalidation_0-auc:0.91700\n",
      "[47]\tvalidation_0-auc:0.91746\n",
      "[48]\tvalidation_0-auc:0.91766\n",
      "[49]\tvalidation_0-auc:0.91838\n",
      "[50]\tvalidation_0-auc:0.91885\n",
      "[51]\tvalidation_0-auc:0.91889\n",
      "[52]\tvalidation_0-auc:0.91923\n",
      "[53]\tvalidation_0-auc:0.92013\n",
      "[54]\tvalidation_0-auc:0.92042\n",
      "[55]\tvalidation_0-auc:0.92039\n",
      "[56]\tvalidation_0-auc:0.92057\n",
      "[57]\tvalidation_0-auc:0.92058\n",
      "[58]\tvalidation_0-auc:0.92073\n",
      "[59]\tvalidation_0-auc:0.92158\n",
      "[60]\tvalidation_0-auc:0.92198\n",
      "[61]\tvalidation_0-auc:0.92207\n",
      "[62]\tvalidation_0-auc:0.92252\n",
      "[63]\tvalidation_0-auc:0.92237\n",
      "[64]\tvalidation_0-auc:0.92251\n",
      "[65]\tvalidation_0-auc:0.92256\n",
      "[66]\tvalidation_0-auc:0.92277\n",
      "[67]\tvalidation_0-auc:0.92324\n",
      "[68]\tvalidation_0-auc:0.92348\n",
      "[69]\tvalidation_0-auc:0.92370\n",
      "[70]\tvalidation_0-auc:0.92400\n",
      "[71]\tvalidation_0-auc:0.92422\n",
      "[72]\tvalidation_0-auc:0.92454\n",
      "[73]\tvalidation_0-auc:0.92473\n",
      "[74]\tvalidation_0-auc:0.92493\n",
      "[75]\tvalidation_0-auc:0.92532\n",
      "[76]\tvalidation_0-auc:0.92558\n",
      "[77]\tvalidation_0-auc:0.92563\n",
      "[78]\tvalidation_0-auc:0.92587\n",
      "[79]\tvalidation_0-auc:0.92597\n",
      "[80]\tvalidation_0-auc:0.92613\n",
      "[81]\tvalidation_0-auc:0.92629\n",
      "[82]\tvalidation_0-auc:0.92624\n",
      "[83]\tvalidation_0-auc:0.92639\n",
      "[84]\tvalidation_0-auc:0.92665\n",
      "[85]\tvalidation_0-auc:0.92666\n",
      "[86]\tvalidation_0-auc:0.92671\n",
      "[87]\tvalidation_0-auc:0.92676\n",
      "[88]\tvalidation_0-auc:0.92704\n",
      "[89]\tvalidation_0-auc:0.92715\n",
      "[90]\tvalidation_0-auc:0.92721\n",
      "[91]\tvalidation_0-auc:0.92734\n",
      "[92]\tvalidation_0-auc:0.92716\n",
      "[93]\tvalidation_0-auc:0.92681\n",
      "[94]\tvalidation_0-auc:0.92680\n",
      "[95]\tvalidation_0-auc:0.92717\n",
      "[96]\tvalidation_0-auc:0.92713\n",
      "Stopping. Best iteration:\n",
      "[91]\tvalidation_0-auc:0.92734\n",
      "\n"
     ]
    },
    {
     "data": {
      "text/plain": [
       "XGBClassifier(base_score=0.5, booster='gbtree', colsample_bylevel=1,\n",
       "              colsample_bynode=1, colsample_bytree=1, gamma=0, gpu_id=-1,\n",
       "              importance_type='gain', interaction_constraints='',\n",
       "              learning_rate=0.300000012, max_delta_step=0, max_depth=6,\n",
       "              min_child_weight=1, missing=nan, monotone_constraints='()',\n",
       "              n_estimators=100, n_jobs=4, num_parallel_tree=1, random_state=42,\n",
       "              reg_alpha=0, reg_lambda=1, scale_pos_weight=1, subsample=1,\n",
       "              tree_method='exact', validate_parameters=1, verbosity=None)"
      ]
     },
     "execution_count": 40,
     "metadata": {},
     "output_type": "execute_result"
    }
   ],
   "source": [
    "model = xgb.XGBClassifier(random_state=seed, n_jobs=4)\n",
    "\n",
    "model.fit(X_train,\n",
    "          y_train,\n",
    "          eval_set=[(X_test, y_test)],\n",
    "          early_stopping_rounds=5,\n",
    "          eval_metric=\"auc\"\n",
    "         )"
   ]
  },
  {
   "cell_type": "code",
   "execution_count": 41,
   "metadata": {},
   "outputs": [
    {
     "name": "stdout",
     "output_type": "stream",
     "text": [
      "Hold-Out Train splitted validation\n",
      "Train-score: 0.975, Test-score: 0.927, ** LB-score: 0.842\n"
     ]
    }
   ],
   "source": [
    "train_score = roc_auc_score(y_train, model.predict_proba(X_train)[:, 1])\n",
    "test_score = roc_auc_score(y_test, model.predict_proba(X_test)[:, 1])\n",
    "val_score = roc_auc_score(y_val, model.predict_proba(X_val)[:, 1])\n",
    "\n",
    "print(f\"Hold-Out Train splitted validation\")\n",
    "print(f\"Train-score: {round(train_score, 3)}, Test-score: {round(test_score, 3)}, ** LB-score: {round(val_score, 3)}\")"
   ]
  },
  {
   "cell_type": "markdown",
   "metadata": {},
   "source": [
    "Train-score: 0.975, Test-score: 0.927 - В данном случае классификатор значительно переобучился. Переподгонка ещё сильнее проявляется на новых данных (test датасете)"
   ]
  },
  {
   "cell_type": "markdown",
   "metadata": {},
   "source": [
    "### Задание 2: сделать Hold-Out валидацию с разбиением на 3 выборки, разбиение проводить по id-транзакции (TransactionID), размер каждой выборки подобрать самостоятельно. Повторить процедуру из п.1. для каждой выборки"
   ]
  },
  {
   "cell_type": "markdown",
   "metadata": {},
   "source": [
    "## Hold-Out Validation (с разбиением на 3 выборки)"
   ]
  },
  {
   "cell_type": "code",
   "execution_count": 42,
   "metadata": {},
   "outputs": [
    {
     "name": "stdout",
     "output_type": "stream",
     "text": [
      "x_train.shape = 126000 rows, 377 cols\n",
      "x_valid.shape = 37800 rows, 377 cols\n",
      "x_test.shape = 16200 rows, 377 cols\n"
     ]
    }
   ],
   "source": [
    "X = train[NUMERICAL_FEATS]\n",
    "y = train[TARGET]\n",
    "\n",
    "X_train, X_val, y_train, y_val = train_test_split(X, y, test_size=0.3, random_state=seed)\n",
    "\n",
    "X_val, X_test, y_val, y_test = train_test_split(X_val, y_val, test_size=0.3, random_state=seed)\n",
    "\n",
    "\n",
    "print(\"x_train.shape = {} rows, {} cols\".format(*X_train.shape))\n",
    "print(\"x_valid.shape = {} rows, {} cols\".format(*X_val.shape))\n",
    "print(\"x_test.shape = {} rows, {} cols\".format(*X_test.shape))"
   ]
  },
  {
   "cell_type": "code",
   "execution_count": 43,
   "metadata": {},
   "outputs": [
    {
     "name": "stdout",
     "output_type": "stream",
     "text": [
      "[0]\tvalidation_0-auc:0.75111\n",
      "Will train until validation_0-auc hasn't improved in 5 rounds.\n",
      "[1]\tvalidation_0-auc:0.81004\n",
      "[2]\tvalidation_0-auc:0.81907\n",
      "[3]\tvalidation_0-auc:0.82114\n",
      "[4]\tvalidation_0-auc:0.83290\n",
      "[5]\tvalidation_0-auc:0.83612\n",
      "[6]\tvalidation_0-auc:0.86155\n",
      "[7]\tvalidation_0-auc:0.86426\n",
      "[8]\tvalidation_0-auc:0.86603\n",
      "[9]\tvalidation_0-auc:0.87313\n",
      "[10]\tvalidation_0-auc:0.88109\n",
      "[11]\tvalidation_0-auc:0.88513\n",
      "[12]\tvalidation_0-auc:0.88749\n",
      "[13]\tvalidation_0-auc:0.88818\n",
      "[14]\tvalidation_0-auc:0.89178\n",
      "[15]\tvalidation_0-auc:0.89354\n",
      "[16]\tvalidation_0-auc:0.89502\n",
      "[17]\tvalidation_0-auc:0.89801\n",
      "[18]\tvalidation_0-auc:0.89827\n",
      "[19]\tvalidation_0-auc:0.90149\n",
      "[20]\tvalidation_0-auc:0.90229\n",
      "[21]\tvalidation_0-auc:0.90264\n",
      "[22]\tvalidation_0-auc:0.90307\n",
      "[23]\tvalidation_0-auc:0.90365\n",
      "[24]\tvalidation_0-auc:0.90510\n",
      "[25]\tvalidation_0-auc:0.90567\n",
      "[26]\tvalidation_0-auc:0.90579\n",
      "[27]\tvalidation_0-auc:0.90576\n",
      "[28]\tvalidation_0-auc:0.90850\n",
      "[29]\tvalidation_0-auc:0.90919\n",
      "[30]\tvalidation_0-auc:0.91037\n",
      "[31]\tvalidation_0-auc:0.91102\n",
      "[32]\tvalidation_0-auc:0.91175\n",
      "[33]\tvalidation_0-auc:0.91231\n",
      "[34]\tvalidation_0-auc:0.91241\n",
      "[35]\tvalidation_0-auc:0.91250\n",
      "[36]\tvalidation_0-auc:0.91282\n",
      "[37]\tvalidation_0-auc:0.91278\n",
      "[38]\tvalidation_0-auc:0.91310\n",
      "[39]\tvalidation_0-auc:0.91317\n",
      "[40]\tvalidation_0-auc:0.91316\n",
      "[41]\tvalidation_0-auc:0.91324\n",
      "[42]\tvalidation_0-auc:0.91402\n",
      "[43]\tvalidation_0-auc:0.91402\n",
      "[44]\tvalidation_0-auc:0.91420\n",
      "[45]\tvalidation_0-auc:0.91430\n",
      "[46]\tvalidation_0-auc:0.91449\n",
      "[47]\tvalidation_0-auc:0.91490\n",
      "[48]\tvalidation_0-auc:0.91496\n",
      "[49]\tvalidation_0-auc:0.91577\n",
      "[50]\tvalidation_0-auc:0.91635\n",
      "[51]\tvalidation_0-auc:0.91665\n",
      "[52]\tvalidation_0-auc:0.91683\n",
      "[53]\tvalidation_0-auc:0.91792\n",
      "[54]\tvalidation_0-auc:0.91810\n",
      "[55]\tvalidation_0-auc:0.91796\n",
      "[56]\tvalidation_0-auc:0.91813\n",
      "[57]\tvalidation_0-auc:0.91813\n",
      "[58]\tvalidation_0-auc:0.91827\n",
      "[59]\tvalidation_0-auc:0.91897\n",
      "[60]\tvalidation_0-auc:0.91941\n",
      "[61]\tvalidation_0-auc:0.91950\n",
      "[62]\tvalidation_0-auc:0.91978\n",
      "[63]\tvalidation_0-auc:0.91968\n",
      "[64]\tvalidation_0-auc:0.91985\n",
      "[65]\tvalidation_0-auc:0.91992\n",
      "[66]\tvalidation_0-auc:0.92021\n",
      "[67]\tvalidation_0-auc:0.92079\n",
      "[68]\tvalidation_0-auc:0.92108\n",
      "[69]\tvalidation_0-auc:0.92139\n",
      "[70]\tvalidation_0-auc:0.92181\n",
      "[71]\tvalidation_0-auc:0.92210\n",
      "[72]\tvalidation_0-auc:0.92239\n",
      "[73]\tvalidation_0-auc:0.92257\n",
      "[74]\tvalidation_0-auc:0.92283\n",
      "[75]\tvalidation_0-auc:0.92316\n",
      "[76]\tvalidation_0-auc:0.92342\n",
      "[77]\tvalidation_0-auc:0.92348\n",
      "[78]\tvalidation_0-auc:0.92384\n",
      "[79]\tvalidation_0-auc:0.92417\n",
      "[80]\tvalidation_0-auc:0.92422\n",
      "[81]\tvalidation_0-auc:0.92445\n",
      "[82]\tvalidation_0-auc:0.92432\n",
      "[83]\tvalidation_0-auc:0.92450\n",
      "[84]\tvalidation_0-auc:0.92462\n",
      "[85]\tvalidation_0-auc:0.92466\n",
      "[86]\tvalidation_0-auc:0.92476\n",
      "[87]\tvalidation_0-auc:0.92479\n",
      "[88]\tvalidation_0-auc:0.92489\n",
      "[89]\tvalidation_0-auc:0.92497\n",
      "[90]\tvalidation_0-auc:0.92504\n",
      "[91]\tvalidation_0-auc:0.92514\n",
      "[92]\tvalidation_0-auc:0.92493\n",
      "[93]\tvalidation_0-auc:0.92456\n",
      "[94]\tvalidation_0-auc:0.92453\n",
      "[95]\tvalidation_0-auc:0.92494\n",
      "[96]\tvalidation_0-auc:0.92490\n",
      "Stopping. Best iteration:\n",
      "[91]\tvalidation_0-auc:0.92514\n",
      "\n"
     ]
    },
    {
     "data": {
      "text/plain": [
       "XGBClassifier(base_score=0.5, booster='gbtree', colsample_bylevel=1,\n",
       "              colsample_bynode=1, colsample_bytree=1, gamma=0, gpu_id=-1,\n",
       "              importance_type='gain', interaction_constraints='',\n",
       "              learning_rate=0.300000012, max_delta_step=0, max_depth=6,\n",
       "              min_child_weight=1, missing=nan, monotone_constraints='()',\n",
       "              n_estimators=100, n_jobs=4, num_parallel_tree=1, random_state=42,\n",
       "              reg_alpha=0, reg_lambda=1, scale_pos_weight=1, subsample=1,\n",
       "              tree_method='exact', validate_parameters=1, verbosity=None)"
      ]
     },
     "execution_count": 43,
     "metadata": {},
     "output_type": "execute_result"
    }
   ],
   "source": [
    "model = xgb.XGBClassifier(random_state=seed, n_jobs=4)\n",
    "model.fit(X_train,\n",
    "          y_train,\n",
    "          eval_set=[(X_val, y_val)],\n",
    "          early_stopping_rounds=5,\n",
    "          eval_metric=\"auc\"\n",
    "         )"
   ]
  },
  {
   "cell_type": "code",
   "execution_count": 44,
   "metadata": {},
   "outputs": [
    {
     "name": "stdout",
     "output_type": "stream",
     "text": [
      "Train-score: 0.975, Valid-score: 0.925, Test-score: 0.932\n"
     ]
    }
   ],
   "source": [
    "train_score = roc_auc_score(y_train, model.predict_proba(X_train)[:, 1])\n",
    "valid_score = roc_auc_score(y_val, model.predict_proba(X_val)[:, 1])\n",
    "test_score = roc_auc_score(y_test, model.predict_proba(X_test)[:, 1])\n",
    "\n",
    "print(f\"Train-score: {round(train_score, 3)}, Valid-score: {round(valid_score, 3)}, Test-score: {round(test_score, 3)}\")"
   ]
  },
  {
   "cell_type": "markdown",
   "metadata": {},
   "source": [
    "Hold-Out с 3 разбиениями показал себя также, плюс к этому Test-score поднялся на ненамного."
   ]
  },
  {
   "cell_type": "markdown",
   "metadata": {},
   "source": [
    "### Задание 3: построить доверительный интервал на данных из п.2 на основе бутстреп выборок, оценить качество модели на ЛБ относительно полученного доверительного интервала. Сделать выводы."
   ]
  },
  {
   "cell_type": "markdown",
   "metadata": {},
   "source": [
    "## Доверительный интервал на основе BootStrap выборок"
   ]
  },
  {
   "cell_type": "code",
   "execution_count": 45,
   "metadata": {},
   "outputs": [],
   "source": [
    "def create_bootstrap_samples(data: np.array, n_samples: int = 1000) -> np.array:\n",
    "    \"\"\"\n",
    "    Создание бутстреп-выборок.\n",
    "\n",
    "    Parameters\n",
    "    ----------\n",
    "    data: np.array\n",
    "        Исходная выборка, которая будет использоваться для\n",
    "        создания бутстреп выборок.\n",
    "\n",
    "    n_samples: int, optional, default = 1000\n",
    "        Количество создаваемых бутстреп выборок.\n",
    "        Опциональный параметр, по умолчанию, равен 1000.\n",
    "\n",
    "    Returns\n",
    "    -------\n",
    "    bootstrap_idx: np.array\n",
    "        Матрица индексов, для создания бутстреп выборок.\n",
    "\n",
    "    \"\"\"\n",
    "    bootstrap_idx = np.random.randint(\n",
    "        low=0, high=len(data), size=(n_samples, len(data))\n",
    "    )\n",
    "    return bootstrap_idx\n",
    "\n",
    "\n",
    "def create_bootstrap_metrics(y_true: np.array,\n",
    "                             y_pred: np.array,\n",
    "                             metric: callable,\n",
    "                             n_samlpes: int = 1000) -> List[float]:\n",
    "    \"\"\"\n",
    "    Вычисление бутстреп оценок.\n",
    "\n",
    "    Parameters\n",
    "    ----------\n",
    "    y_true: np.array\n",
    "        Вектор целевой переменной.\n",
    "\n",
    "    y_pred: np.array\n",
    "        Вектор прогнозов.\n",
    "\n",
    "    metric: callable\n",
    "        Функция для вычисления метрики.\n",
    "        Функция должна принимать 2 аргумента: y_true, y_pred.\n",
    "\n",
    "    n_samples: int, optional, default = 1000\n",
    "        Количество создаваемых бутстреп выборок.\n",
    "        Опциональный параметр, по умолчанию, равен 1000.\n",
    "\n",
    "    Returns\n",
    "    -------\n",
    "    bootstrap_metrics: List[float]\n",
    "        Список со значениями метрики качества на каждой бустреп выборке.\n",
    "\n",
    "    \"\"\"\n",
    "    scores = []\n",
    "\n",
    "    if isinstance(y_true, pd.Series):\n",
    "        y_true = y_true.values\n",
    "\n",
    "    bootstrap_idx = create_bootstrap_samples(y_true)\n",
    "    for idx in bootstrap_idx:\n",
    "        y_true_bootstrap = y_true[idx]\n",
    "        y_pred_bootstrap = y_pred[idx]\n",
    "\n",
    "        score = metric(y_true_bootstrap, y_pred_bootstrap)\n",
    "        scores.append(score)\n",
    "\n",
    "    return scores\n",
    "\n",
    "\n",
    "def calculate_confidence_interval(scores: list, conf_interval: float = 0.95) -> Tuple[float]:\n",
    "    \"\"\"\n",
    "    Вычисление доверительного интервала.\n",
    "\n",
    "    Parameters\n",
    "    ----------\n",
    "    scores: List[float / int]\n",
    "        Список с оценками изучаемой величины.\n",
    "\n",
    "    conf_interval: float, optional, default = 0.95\n",
    "        Уровень доверия для построения интервала.\n",
    "        Опциональный параметр, по умолчанию, равен 0.95.\n",
    "\n",
    "    Returns\n",
    "    -------\n",
    "    conf_interval: Tuple[float]\n",
    "        Кортеж с границами доверительного интервала.\n",
    "\n",
    "    \"\"\"\n",
    "    left_bound = np.percentile(\n",
    "        scores, ((1 - conf_interval) / 2) * 100\n",
    "    )\n",
    "    right_bound = np.percentile(\n",
    "        scores, (conf_interval + ((1 - conf_interval) / 2)) * 100\n",
    "    )\n",
    "\n",
    "    return left_bound, right_bound"
   ]
  },
  {
   "cell_type": "code",
   "execution_count": 46,
   "metadata": {},
   "outputs": [
    {
     "data": {
      "text/plain": [
       "(0.7093603112524034, 0.754145644140848)"
      ]
     },
     "execution_count": 46,
     "metadata": {},
     "output_type": "execute_result"
    }
   ],
   "source": [
    "scores = create_bootstrap_metrics(y_test, model.predict(X_test), roc_auc_score)\n",
    "\n",
    "calculate_confidence_interval(scores)"
   ]
  },
  {
   "cell_type": "code",
   "execution_count": 47,
   "metadata": {
    "scrolled": true
   },
   "outputs": [
    {
     "name": "stderr",
     "output_type": "stream",
     "text": [
      "C:\\Users\\User\\Anaconda3\\lib\\site-packages\\seaborn\\distributions.py:2557: FutureWarning: `distplot` is a deprecated function and will be removed in a future version. Please adapt your code to use either `displot` (a figure-level function with similar flexibility) or `histplot` (an axes-level function for histograms).\n",
      "  warnings.warn(msg, FutureWarning)\n"
     ]
    },
    {
     "data": {
      "image/png": "[encoded data removed]",
      "text/plain": [
       "<Figure size 1080x360 with 2 Axes>"
      ]
     },
     "metadata": {
      "needs_background": "light"
     },
     "output_type": "display_data"
    }
   ],
   "source": [
    "fig, axes = plt.subplots(1, 2, figsize=(15, 5))\n",
    "plt.suptitle(\"Bootstrap for evaluating validation stability\", size=15)\n",
    "axes[1].scatter(range(len(scores)), scores, alpha=0.25, color=\"blue\")\n",
    "axes[1].set_xlabel(\"sample number\", size=15)\n",
    "axes[1].set_ylabel(\"Roc Auc score\", size=15)\n",
    "\n",
    "sns.distplot(scores, ax=axes[0], color=\"green\", bins=20)\n",
    "axes[0].set_xlabel(\"sample number\", size=15)\n",
    "plt.show()"
   ]
  },
  {
   "cell_type": "markdown",
   "metadata": {},
   "source": [
    "Доверительный интервал имеет диапазон в пределах от 0.709 до 0.754 - разница в границах велика. Метрика качества модели на тестовых данных (0.932) превышает доверительный интервал, что всё равно позволяет сделать вывод о неудовлетворительном качестве валидации."
   ]
  },
  {
   "cell_type": "markdown",
   "metadata": {},
   "source": [
    "### Задание 4: выполнить Adversarial Validation, подобрать объекты из обучающей выборки, которые сильно похожи на объекты из assignment_2_test.csv , и использовать их в качестве валидационного набора. Оценить качество модели на ЛБ, сделать выводы о полученных результатах."
   ]
  },
  {
   "cell_type": "markdown",
   "metadata": {},
   "source": [
    "## Adversarial Validation"
   ]
  },
  {
   "cell_type": "markdown",
   "metadata": {},
   "source": [
    "В Adversarial Validation используется гипотеза о том, что в train-данных могут находиться наблюдения, сильно похожие на тестовые. Для этого использован классификатор принадлежности данных к train / test датасету, с последующим использованием в качестве валидационного датасета наиболее похожих данных"
   ]
  },
  {
   "cell_type": "markdown",
   "metadata": {},
   "source": [
    "`train.csv` split evaluation: В качестве теста посмотрим на похожие признаки внутри train.csv со test_size=0.5 (изменение долей сплита смещает мат. ожидание предсказания вероятности модели)"
   ]
  },
  {
   "cell_type": "code",
   "execution_count": 48,
   "metadata": {},
   "outputs": [],
   "source": [
    "X = train[NUMERICAL_FEATS]\n",
    "y = train[TARGET]\n",
    "X_train, X_test, y_train, y_test = train_test_split(X, y, test_size=0.5, shuffle=True, random_state=seed)\n",
    "\n",
    "X_adv = pd.concat([\n",
    "    X_train, X_test], axis=0)\n",
    "y_adv = np.hstack((np.zeros(X_train.shape[0]), np.ones(X_test.shape[0])))\n",
    "assert X_adv.shape[0] == y_adv.shape[0]"
   ]
  },
  {
   "cell_type": "code",
   "execution_count": 49,
   "metadata": {},
   "outputs": [
    {
     "data": {
      "text/plain": [
       "XGBClassifier(base_score=0.5, booster='gbtree', colsample_bylevel=1,\n",
       "              colsample_bynode=1, colsample_bytree=1, gamma=0, gpu_id=-1,\n",
       "              importance_type='gain', interaction_constraints='',\n",
       "              learning_rate=0.300000012, max_delta_step=0, max_depth=6,\n",
       "              min_child_weight=1, missing=nan, monotone_constraints='()',\n",
       "              n_estimators=100, n_jobs=0, num_parallel_tree=1, random_state=0,\n",
       "              reg_alpha=0, reg_lambda=1, scale_pos_weight=1, subsample=1,\n",
       "              tree_method='exact', validate_parameters=1, verbosity=None)"
      ]
     },
     "execution_count": 49,
     "metadata": {},
     "output_type": "execute_result"
    }
   ],
   "source": [
    "model = xgb.XGBClassifier()\n",
    "model.fit(X_adv, y_adv)"
   ]
  },
  {
   "cell_type": "code",
   "execution_count": 50,
   "metadata": {},
   "outputs": [],
   "source": [
    "y_pred = model.predict_proba(X_train)"
   ]
  },
  {
   "cell_type": "code",
   "execution_count": 51,
   "metadata": {},
   "outputs": [
    {
     "data": {
      "text/plain": [
       "(0.0, 0.1]       36\n",
       "(0.1, 0.2]      320\n",
       "(0.2, 0.3]     1211\n",
       "(0.3, 0.4]     4783\n",
       "(0.4, 0.5]    40388\n",
       "(0.5, 0.6]    42830\n",
       "(0.6, 0.7]      414\n",
       "(0.7, 0.8]       18\n",
       "(0.8, 0.9]        0\n",
       "(0.9, 1.0]        0\n",
       "dtype: int64"
      ]
     },
     "execution_count": 51,
     "metadata": {},
     "output_type": "execute_result"
    }
   ],
   "source": [
    "pd.cut(\n",
    "    y_pred[:, 1], bins=np.arange(0, 1.01, 0.1)\n",
    ").value_counts()"
   ]
  },
  {
   "cell_type": "markdown",
   "metadata": {},
   "source": [
    "`train.csv` + `test.csv` split evaluation:"
   ]
  },
  {
   "cell_type": "code",
   "execution_count": 52,
   "metadata": {},
   "outputs": [],
   "source": [
    "xtrain = train[NUMERICAL_FEATS].copy()\n",
    "xtest = test[NUMERICAL_FEATS].copy()\n",
    "y_train = train[TARGET].copy()\n",
    "\n",
    "X_adv = pd.concat([\n",
    "    xtrain, xtest], axis=0)\n",
    "y_adv = np.hstack((np.zeros(xtrain.shape[0]), np.ones(xtest.shape[0])))\n",
    "assert X_adv.shape[0] == y_adv.shape[0]"
   ]
  },
  {
   "cell_type": "code",
   "execution_count": 53,
   "metadata": {},
   "outputs": [
    {
     "data": {
      "text/plain": [
       "XGBClassifier(base_score=0.5, booster='gbtree', colsample_bylevel=1,\n",
       "              colsample_bynode=1, colsample_bytree=1, gamma=0, gpu_id=-1,\n",
       "              importance_type='gain', interaction_constraints='',\n",
       "              learning_rate=0.300000012, max_delta_step=0, max_depth=6,\n",
       "              min_child_weight=1, missing=nan, monotone_constraints='()',\n",
       "              n_estimators=25, n_jobs=0, num_parallel_tree=1, random_state=0,\n",
       "              reg_alpha=0, reg_lambda=1, scale_pos_weight=1, subsample=1,\n",
       "              tree_method='exact', validate_parameters=1, verbosity=None)"
      ]
     },
     "execution_count": 53,
     "metadata": {},
     "output_type": "execute_result"
    }
   ],
   "source": [
    "model = xgb.XGBClassifier(n_estimators=25)\n",
    "model.fit(X_adv, y_adv)"
   ]
  },
  {
   "cell_type": "code",
   "execution_count": 54,
   "metadata": {},
   "outputs": [],
   "source": [
    "y_pred = model.predict_proba(xtrain)"
   ]
  },
  {
   "cell_type": "code",
   "execution_count": 55,
   "metadata": {},
   "outputs": [
    {
     "data": {
      "text/plain": [
       "(0.0, 0.1]    32542\n",
       "(0.1, 0.2]    84181\n",
       "(0.2, 0.3]    23112\n",
       "(0.3, 0.4]    21527\n",
       "(0.4, 0.5]    12908\n",
       "(0.5, 0.6]     4766\n",
       "(0.6, 0.7]      555\n",
       "(0.7, 0.8]      131\n",
       "(0.8, 0.9]      107\n",
       "(0.9, 1.0]      171\n",
       "dtype: int64"
      ]
     },
     "execution_count": 55,
     "metadata": {},
     "output_type": "execute_result"
    }
   ],
   "source": [
    "pd.cut(\n",
    "    y_pred[:, 1], bins=np.arange(0, 1.01, 0.1)\n",
    ").value_counts()"
   ]
  },
  {
   "cell_type": "markdown",
   "metadata": {},
   "source": [
    "Используем наиболее похожие (с порогом > 0.7) xtrain метки в качестве валидационного датасета¶"
   ]
  },
  {
   "cell_type": "code",
   "execution_count": 56,
   "metadata": {},
   "outputs": [],
   "source": [
    "threshold = 0.7\n",
    "\n",
    "xtrain[TARGET] = y_train\n",
    "xtrain['is_valid'] = np.where(y_pred[:, 1] > threshold, 1, 0) "
   ]
  },
  {
   "cell_type": "code",
   "execution_count": 57,
   "metadata": {},
   "outputs": [
    {
     "name": "stdout",
     "output_type": "stream",
     "text": [
      "Train split.shape: 179591, Val split.shape: 409, Test split.shape: 100001\n"
     ]
    }
   ],
   "source": [
    "X_train =  xtrain.loc[xtrain['is_valid']==0][NUMERICAL_FEATS]\n",
    "X_val = xtrain.loc[xtrain['is_valid']==1][NUMERICAL_FEATS]\n",
    "\n",
    "y_train = xtrain.loc[xtrain['is_valid']==0][TARGET]\n",
    "y_val = xtrain.loc[xtrain['is_valid']==1][TARGET]\n",
    "\n",
    "X_test = test[NUMERICAL_FEATS]\n",
    "y_test = test[TARGET]\n",
    "\n",
    "print(f\"Train split.shape: {X_train.shape[0]}, Val split.shape: {X_val.shape[0]}, Test split.shape: {X_test.shape[0]}\")"
   ]
  },
  {
   "cell_type": "code",
   "execution_count": 58,
   "metadata": {},
   "outputs": [
    {
     "name": "stdout",
     "output_type": "stream",
     "text": [
      "[0]\tvalidation_0-auc:0.58642\n",
      "Will train until validation_0-auc hasn't improved in 5 rounds.\n",
      "[1]\tvalidation_0-auc:0.66944\n",
      "[2]\tvalidation_0-auc:0.66080\n",
      "[3]\tvalidation_0-auc:0.66049\n",
      "[4]\tvalidation_0-auc:0.66420\n",
      "[5]\tvalidation_0-auc:0.69198\n",
      "[6]\tvalidation_0-auc:0.77438\n",
      "[7]\tvalidation_0-auc:0.87500\n",
      "[8]\tvalidation_0-auc:0.87778\n",
      "[9]\tvalidation_0-auc:0.87932\n",
      "[10]\tvalidation_0-auc:0.87037\n",
      "[11]\tvalidation_0-auc:0.87006\n",
      "[12]\tvalidation_0-auc:0.87377\n",
      "[13]\tvalidation_0-auc:0.87901\n",
      "[14]\tvalidation_0-auc:0.87160\n",
      "Stopping. Best iteration:\n",
      "[9]\tvalidation_0-auc:0.87932\n",
      "\n"
     ]
    },
    {
     "data": {
      "text/plain": [
       "XGBClassifier(base_score=0.5, booster='gbtree', colsample_bylevel=1,\n",
       "              colsample_bynode=1, colsample_bytree=1, gamma=0, gpu_id=-1,\n",
       "              importance_type='gain', interaction_constraints='',\n",
       "              learning_rate=0.300000012, max_delta_step=0, max_depth=6,\n",
       "              min_child_weight=1, missing=nan, monotone_constraints='()',\n",
       "              n_estimators=100, n_jobs=4, num_parallel_tree=1, random_state=42,\n",
       "              reg_alpha=0, reg_lambda=1, scale_pos_weight=1, subsample=1,\n",
       "              tree_method='exact', validate_parameters=1, verbosity=None)"
      ]
     },
     "execution_count": 58,
     "metadata": {},
     "output_type": "execute_result"
    }
   ],
   "source": [
    "model = xgb.XGBClassifier(random_state=seed, n_jobs=4)\n",
    "\n",
    "model.fit(X_train,\n",
    "          y_train,\n",
    "          eval_set=[(X_val, y_val)],\n",
    "          early_stopping_rounds=5,\n",
    "          eval_metric=\"auc\"\n",
    "         )"
   ]
  },
  {
   "cell_type": "code",
   "execution_count": 59,
   "metadata": {},
   "outputs": [
    {
     "name": "stdout",
     "output_type": "stream",
     "text": [
      "Train-score: 0.884, Valid-score: 0.879, Test-score: 0.85\n"
     ]
    }
   ],
   "source": [
    "train_score = roc_auc_score(y_train, model.predict_proba(X_train)[:,1])\n",
    "valid_score = roc_auc_score(y_val, model.predict_proba(X_val)[:,1])\n",
    "test_score = roc_auc_score(y_test, model.predict_proba(X_test)[:,1])\n",
    "\n",
    "# Результат HO validation с разбиением на 3 выборки: Train-score: 0.884, Valid-score: 0.879, Test-score: 0.85\n",
    "print(f\"Train-score: {round(train_score, 3)}, Valid-score: {round(valid_score, 3)}, Test-score: {round(test_score, 3)}\")"
   ]
  },
  {
   "cell_type": "code",
   "execution_count": 60,
   "metadata": {},
   "outputs": [
    {
     "data": {
      "text/plain": [
       "(0.8435329994475699, 0.8563127505035948)"
      ]
     },
     "execution_count": 60,
     "metadata": {},
     "output_type": "execute_result"
    }
   ],
   "source": [
    "y_pred_test = model.predict_proba(X_test)[:, 1]\n",
    "scores = create_bootstrap_metrics(y_test, y_pred_test, roc_auc_score)\n",
    "\n",
    "calculate_confidence_interval(scores)"
   ]
  },
  {
   "cell_type": "markdown",
   "metadata": {},
   "source": [
    "__Выводы:__ по результатам adversarial-validation видно, что выборки очень сильно отличаются друг от друга, есть основания предполагать, что выборки взяты из разных распределений, так как классификатор получился очень сильным. Кроме того, в обучающей выборке очень много объектов, которые, по мнению adversarial-классификатора очень похожи на объекты из обучающей выборки. С помощью adversarial-валидации мы подобрали тестовый набор данных, который очень похож на датасет из публичного лидерборда и сделали оценку качества модели. Валидация получилось более устойчивой, оценка на публичном лидерборде лежит аккуратно посередине доверительного интервала."
   ]
  },
  {
   "cell_type": "markdown",
   "metadata": {},
   "source": [
    "Чуть меньше переобучение, но и хуже результат на тестовой выборке. Думаю, что можно было бы как-то покрутить и получить более впечетляющий результат."
   ]
  },
  {
   "cell_type": "markdown",
   "metadata": {},
   "source": [
    "### Задание 5: сделать KFold / StratifiedKFold валидацию (на ваше усмотрение), оценить получаемые качество и разброс по метрике качества. Сделать выводы об устойчивости кросс-валидации, сходимости оценки на кросс-валидации и отложенном наборе данных; Оценить качество на ЛБ, сделать выводы."
   ]
  },
  {
   "cell_type": "markdown",
   "metadata": {},
   "source": [
    "## KFold кросс-валидация (KFold Validation)"
   ]
  },
  {
   "cell_type": "markdown",
   "metadata": {},
   "source": [
    "Базовая реализация через `cross_val_score()`"
   ]
  },
  {
   "cell_type": "code",
   "execution_count": 61,
   "metadata": {},
   "outputs": [
    {
     "name": "stdout",
     "output_type": "stream",
     "text": [
      "[0.88742123 0.91998813 0.9021726  0.90845796 0.89143663]\n",
      "CV-results: 0.9019 +/- 0.012\n"
     ]
    }
   ],
   "source": [
    "# X = train.drop([ID, TARGET], axis=1)\n",
    "# X = X[NUMERICAL_FEATS]\n",
    "# y = train[TARGET]\n",
    "\n",
    "# sorted(sklearn.metrics.SCORERS.keys()) # metric scroring availabilities\n",
    "\n",
    "cv = cross_val_score(\n",
    "    estimator=model,\n",
    "    X=X,\n",
    "    y=y,\n",
    "    scoring=\"roc_auc\",\n",
    "    cv=5\n",
    ")\n",
    "\n",
    "print(cv)\n",
    "print(f\"CV-results: {round(np.mean(cv), 4)} +/- {round(np.std(cv), 3)}\")"
   ]
  },
  {
   "cell_type": "code",
   "execution_count": 62,
   "metadata": {},
   "outputs": [
    {
     "name": "stdout",
     "output_type": "stream",
     "text": [
      "[0.88742123 0.91998813 0.9021726  0.90845796 0.89143663]\n"
     ]
    }
   ],
   "source": [
    "print(cv)"
   ]
  },
  {
   "cell_type": "code",
   "execution_count": 63,
   "metadata": {},
   "outputs": [],
   "source": [
    "def make_cross_validation(X: pd.DataFrame,\n",
    "                          y: pd.Series,\n",
    "                          estimator: object,\n",
    "                          metric: callable,\n",
    "                          cv_strategy):\n",
    "    \"\"\"\n",
    "    Кросс-валидация.\n",
    "\n",
    "    Parameters\n",
    "    ----------\n",
    "    X: pd.DataFrame\n",
    "        Матрица признаков.\n",
    "\n",
    "    y: pd.Series\n",
    "        Вектор целевой переменной.\n",
    "\n",
    "    estimator: callable\n",
    "        Объект модели для обучения.\n",
    "\n",
    "    metric: callable\n",
    "        Метрика для оценки качества решения.\n",
    "        Ожидается, что на вход будет передана функция,\n",
    "        которая принимает 2 аргумента: y_true, y_pred.\n",
    "\n",
    "    cv_strategy: cross-validation generator\n",
    "        Объект для описания стратегии кросс-валидации.\n",
    "        Ожидается, что на вход будет передан объект типа\n",
    "        KFold или StratifiedKFold.\n",
    "\n",
    "    Returns\n",
    "    -------\n",
    "    oof_score: float\n",
    "        Значение метрики качества на OOF-прогнозах.\n",
    "\n",
    "    fold_train_scores: List[float]\n",
    "        Значение метрики качества на каждом обучающем датасете кросс-валидации.\n",
    "\n",
    "    fold_valid_scores: List[float]\n",
    "        Значение метрики качества на каждом валидационном датасете кросс-валидации.\n",
    "\n",
    "    oof_predictions: np.array\n",
    "        Прогнозы на OOF.\n",
    "\n",
    "    \"\"\"\n",
    "    estimators, fold_train_scores, fold_valid_scores = [], [], []\n",
    "    oof_predictions = np.zeros(X.shape[0])\n",
    "\n",
    "    for fold_number, (train_idx, valid_idx) in enumerate(cv_strategy.split(X, y)):\n",
    "        x_train, x_valid = X.loc[train_idx], X.loc[valid_idx]\n",
    "        y_train, y_valid = y.loc[train_idx], y.loc[valid_idx]\n",
    "\n",
    "        estimator.fit(x_train, y_train)\n",
    "        y_train_pred = estimator.predict(x_train)\n",
    "        y_valid_pred = estimator.predict(x_valid)\n",
    "\n",
    "        fold_train_scores.append(metric(y_train, y_train_pred))\n",
    "        fold_valid_scores.append(metric(y_valid, y_valid_pred))\n",
    "        oof_predictions[valid_idx] = y_valid_pred\n",
    "\n",
    "        msg = (\n",
    "            f\"Fold: {fold_number+1}, train-observations = {len(train_idx)}, \"\n",
    "            f\"valid-observations = {len(valid_idx)}\\n\"\n",
    "            f\"train-score = {round(fold_train_scores[fold_number], 4)}, \"\n",
    "            f\"valid-score = {round(fold_valid_scores[fold_number], 4)}\" \n",
    "        )\n",
    "        print(msg)\n",
    "        print(\"=\"*69)\n",
    "        estimators.append(estimator)\n",
    "\n",
    "    oof_score = metric(y, oof_predictions)\n",
    "    print(f\"CV-results train: {round(np.mean(fold_train_scores), 4)} +/- {round(np.std(fold_train_scores), 3)}\")\n",
    "    print(f\"CV-results valid: {round(np.mean(fold_valid_scores), 4)} +/- {round(np.std(fold_valid_scores), 3)}\")\n",
    "    print(f\"OOF-score = {round(oof_score, 4)}\")\n",
    "\n",
    "    return estimators, oof_score, fold_train_scores, fold_valid_scores, oof_predictions"
   ]
  },
  {
   "cell_type": "markdown",
   "metadata": {},
   "source": [
    "Качество метрики на фолдах показало стандартное отклонение в районе 2.2%, что в общем случае, достаточно велико и говорит о низкой консистентности модели, на новых данных качество может значительно варьироваться"
   ]
  },
  {
   "cell_type": "code",
   "execution_count": 64,
   "metadata": {
    "scrolled": true
   },
   "outputs": [
    {
     "name": "stdout",
     "output_type": "stream",
     "text": [
      "Fold: 1, train-observations = 144000, valid-observations = 36000\n",
      "train-score = 0.6956, valid-score = 0.6229\n",
      "=====================================================================\n",
      "Fold: 2, train-observations = 144000, valid-observations = 36000\n",
      "train-score = 0.6894, valid-score = 0.6469\n",
      "=====================================================================\n",
      "Fold: 3, train-observations = 144000, valid-observations = 36000\n",
      "train-score = 0.6833, valid-score = 0.6879\n",
      "=====================================================================\n",
      "Fold: 4, train-observations = 144000, valid-observations = 36000\n",
      "train-score = 0.6794, valid-score = 0.6517\n",
      "=====================================================================\n",
      "Fold: 5, train-observations = 144000, valid-observations = 36000\n",
      "train-score = 0.6835, valid-score = 0.6464\n",
      "=====================================================================\n",
      "CV-results train: 0.6862 +/- 0.006\n",
      "CV-results valid: 0.6512 +/- 0.021\n",
      "OOF-score = 0.649\n"
     ]
    }
   ],
   "source": [
    "cv_strategy = KFold(n_splits=5, random_state=None)\n",
    "\n",
    "estimators, oof_score, fold_train_scores, fold_valid_scores, oof_predictions = make_cross_validation(\n",
    "    X=X, y=y, estimator=model, metric=roc_auc_score, cv_strategy=cv_strategy\n",
    ")"
   ]
  },
  {
   "cell_type": "markdown",
   "metadata": {},
   "source": [
    "Разброс валидации не очень большой, а вот OOF-score = 0.649 - это наверное плохо."
   ]
  },
  {
   "cell_type": "markdown",
   "metadata": {},
   "source": [
    "## KFold Validation по TimeSeriesSplit"
   ]
  },
  {
   "cell_type": "markdown",
   "metadata": {},
   "source": [
    "В метриках валидации 10 фолдов с разбиенеием по TimeSeriesSplit проявляется характер распределения временных меток, которое характеризуется низкой плотностью в начале и конце периода. Результат выражен низким качеством метрики на 1-м разбиении и снижении качества к последнему (при тестировании на 5 фолдах функция метрики имела более гладкий вид без скачков скора). Также наблюдается снижение `train-score`, т.е. с увеличением выборки, снижается склонность к переобучению модели"
   ]
  },
  {
   "cell_type": "code",
   "execution_count": 65,
   "metadata": {},
   "outputs": [
    {
     "name": "stdout",
     "output_type": "stream",
     "text": [
      "TRAIN: [0] TEST: [1]\n",
      "TRAIN: [0 1] TEST: [2]\n",
      "TRAIN: [0 1 2] TEST: [3]\n",
      "TRAIN: [0 1 2 3] TEST: [4]\n",
      "TRAIN: [0 1 2 3 4] TEST: [5]\n"
     ]
    }
   ],
   "source": [
    "# Test example\n",
    "X = np.array([[1, 2], [3, 4], [1, 2], [3, 4], [1, 2], [3, 4]])\n",
    "y = np.array([1, 2, 3, 4, 5, 6])\n",
    "\n",
    "tscv = TimeSeriesSplit(n_splits=5)\n",
    "\n",
    "for train_index, test_index in tscv.split(X):\n",
    "    print(\"TRAIN:\", train_index, \"TEST:\", test_index)\n",
    "    X_train, X_test = X[train_index], X[test_index]\n",
    "    y_train, y_test = y[train_index], y[test_index]"
   ]
  },
  {
   "cell_type": "code",
   "execution_count": 66,
   "metadata": {},
   "outputs": [
    {
     "name": "stdout",
     "output_type": "stream",
     "text": [
      "Fold: 1, train-observations = 16370, valid-observations = 16363\n",
      "train-score = 0.6986, valid-score = 0.6222\n",
      "=====================================================================\n",
      "Fold: 2, train-observations = 32733, valid-observations = 16363\n",
      "train-score = 0.6927, valid-score = 0.613\n",
      "=====================================================================\n",
      "Fold: 3, train-observations = 49096, valid-observations = 16363\n",
      "train-score = 0.6808, valid-score = 0.6311\n",
      "=====================================================================\n",
      "Fold: 4, train-observations = 65459, valid-observations = 16363\n",
      "train-score = 0.6862, valid-score = 0.6299\n",
      "=====================================================================\n",
      "Fold: 5, train-observations = 81822, valid-observations = 16363\n",
      "train-score = 0.6926, valid-score = 0.6851\n",
      "=====================================================================\n",
      "Fold: 6, train-observations = 98185, valid-observations = 16363\n",
      "train-score = 0.6937, valid-score = 0.6244\n",
      "=====================================================================\n",
      "Fold: 7, train-observations = 114548, valid-observations = 16363\n",
      "train-score = 0.6812, valid-score = 0.6106\n",
      "=====================================================================\n",
      "Fold: 8, train-observations = 130911, valid-observations = 16363\n",
      "train-score = 0.6783, valid-score = 0.6607\n",
      "=====================================================================\n",
      "Fold: 9, train-observations = 147274, valid-observations = 16363\n",
      "train-score = 0.6868, valid-score = 0.6566\n",
      "=====================================================================\n",
      "Fold: 10, train-observations = 163637, valid-observations = 16363\n",
      "train-score = 0.6837, valid-score = 0.628\n",
      "=====================================================================\n",
      "CV-results train: 0.6875 +/- 0.006\n",
      "CV-results valid: 0.6362 +/- 0.023\n",
      "OOF-score = 0.6247\n"
     ]
    }
   ],
   "source": [
    "X = train[NUMERICAL_FEATS]\n",
    "y = train[TARGET]\n",
    "\n",
    "cv = TimeSeriesSplit(n_splits=10)\n",
    "\n",
    "estimators, oof_score, fold_train_scores, fold_valid_scores, oof_predictions = make_cross_validation(\n",
    "    X=X, y=y, estimator=model, metric=roc_auc_score, cv_strategy=cv\n",
    ")"
   ]
  },
  {
   "cell_type": "markdown",
   "metadata": {},
   "source": [
    "#### Выводы по Validation\n",
    "\n",
    "- **Hold-Out Validation на 2-х выборках**: (Train-score: **0.975**, Test-score: **0.927**) - В данном случае классификатор переобучился. Переподгонка сильнее проявляется на `test` датасете\n",
    "\n",
    "- **Hold-Out Validation на 3-х выборках**: (Train-score: **0.975**, Valid-score: **0.925**, Test-score: **0.932**). Val и Test метрики показывают близость друг к другу. Модель *выглядит консистентной*\n",
    "\n",
    "- Построение **доверительного интервала на основе BootStrap** выборок имеет диапазон в пределах от **0.71** до **0.75** - разница не велика. Метрика качества модели на тестовых данных (**0.93**) не входит в доверительный интервал, что позволяет сделать вывод о неудовлетворительном качестве валидации\n",
    "\n",
    "- Оценка модели по **Adversarial Validation** не привела к улучшению качества модели. По сравнением с качеством модели Hold-Out на тестовых данных осталось в пределах статистической погрешности\n",
    "\n",
    "- **KFold Validation** на 5 фолдов показало стандартное отклонение в районе **2.2%**. Результаты валидации имеют разброс порядка **7%**, что достаточно велико, и говорит о низкой консистентности модели. На новых данных качество может варьироваться в оцененных пределах.\n",
    "\n",
    "- **KFold Validation по TimeSeriesSplit** на 10 фолдах (справедливо для 5 фолдов) с разбиенеием по TimeSeriesSplit проявляется характер распределения временных меток, которое характеризуется низкой плотностью в начале и конце периода. Результат выражен низким качеством метрики на 1-ых разбиениях и снижении ближе к последнему (при тестировании на 5 фолдах функция метрики имела более гладкий вид без скачков скора). Также наблюдается снижение `train-score`, т.е. с увеличением выборки, снижается склонность к переобучению модели\n"
   ]
  },
  {
   "cell_type": "code",
   "execution_count": null,
   "metadata": {},
   "outputs": [],
   "source": []
  },
  {
   "cell_type": "markdown",
   "metadata": {},
   "source": [
    "### Задание 7 (совсем опциональное): в данном наборе данных у нас есть ID-транзакции (TransactionID) и время транзакции (TransactionDT), но отсутствует ID-клиента, который совершал транзакции. Кажется, что в этой задаче валидация по клиенту работала бы хорошо. Предложить критерий, по которому можно выделить клиентов и сделать п.5, используя созданное определение клиента, используя валидацию по клиенту (GroupKFold)."
   ]
  },
  {
   "cell_type": "code",
   "execution_count": null,
   "metadata": {},
   "outputs": [],
   "source": []
  }
 ],
 "metadata": {
  "kernelspec": {
   "display_name": "Python 3",
   "language": "python",
   "name": "python3"
  },
  "language_info": {
   "codemirror_mode": {
    "name": "ipython",
    "version": 3
   },
   "file_extension": ".py",
   "mimetype": "text/x-python",
   "name": "python",
   "nbconvert_exporter": "python",
   "pygments_lexer": "ipython3",
   "version": "3.7.9"
  }
 },
 "nbformat": 4,
 "nbformat_minor": 4
}
